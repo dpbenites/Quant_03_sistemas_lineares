{
 "cells": [
  {
   "cell_type": "markdown",
   "metadata": {},
   "source": [
    "# Aula 06 - Aplicação Numpy e Scipy em sistemas lineares\n",
    "\n",
    "É muito importante que se domine operações lineares e sua modelagem computacional com `python`\n",
    "\n",
    "Essas ferramentas nos dão a possibilidade maior de aplicar a noção de arrays para problemas reais. É muito mais versátil tratar diversos problemas na programação com vetores -> matrizes -> arrays\n"
   ]
  },
  {
   "cell_type": "markdown",
   "metadata": {},
   "source": [
    "## 3.1 Por que o numpy é tão utilizado e mais eficiente ? \n",
    "\n",
    "### NumPy Arrays vs Python Lists:\n",
    "\n",
    "1. **Homogeneous vs Heterogeneous Data Types**: `NumPy arrays` armazenam dados de um único tipo de forma contígua, enquanto listas em Python podem conter tipos de dados mistos, resultando em uma alocação de memória menos eficiente.\n",
    "\n",
    "\n",
    "\n",
    "2. **Paralelismo**: Pacote divide uma tarefa em vários fragmentos e então processa todos os fragmentos em paralelo\n",
    "\n",
    "\n",
    "\n",
    "3. **Integração de C, C++ e Fortran**: NumPy é baseado em código C e usa funções C otimizadas para muitas operações internas. Além disso, muitas bibliotecas NumPy são implementadas em C++, Fortran, contribuindo para sua eficiência.\n",
    "\n",
    "\n"
   ]
  },
  {
   "cell_type": "code",
   "execution_count": 1,
   "metadata": {},
   "outputs": [
    {
     "name": "stdout",
     "output_type": "stream",
     "text": [
      "\n",
      "Concatenation:\n",
      "Time taken by Lists : 0.05274844169616699 seconds\n",
      "Time taken by NumPy Arrays : 0.01527547836303711 seconds\n",
      "\n",
      "Dot Product:\n",
      "Time taken by Lists : 0.30832648277282715 seconds\n",
      "Time taken by NumPy Arrays : 0.005681037902832031 seconds\n",
      "\n",
      "Scalar Addition:\n",
      "Time taken by Lists : 0.13402414321899414 seconds\n",
      "Time taken by NumPy Arrays : 0.010125875473022461 seconds\n",
      "\n",
      "Deletion: \n",
      "Time taken by Lists : 0.02484297752380371 seconds\n",
      "Time taken by NumPy Arrays : 7.009506225585938e-05 seconds\n"
     ]
    }
   ],
   "source": [
    "# importing required packages\n",
    "import numpy\n",
    "import time\n",
    "\n",
    "\n",
    "# size of arrays and lists\n",
    "size = 1000000\n",
    "\n",
    "# declaring lists\n",
    "list1 = [i for i in range(size)]\n",
    "list2 = [i for i in range(size)]\n",
    "\n",
    "# declaring arrays\n",
    "array1 = numpy.arange(size)\n",
    "array2 = numpy.arange(size)\n",
    "\n",
    "# Concatenation\n",
    "print(\"\\nConcatenation:\")\n",
    "\n",
    "# list\n",
    "initialTime = time.time()\n",
    "list1 = list1 + list2\n",
    "\n",
    "# calculating execution time\n",
    "print(\"Time taken by Lists :\",\n",
    "\t(time.time() - initialTime),\n",
    "\t\"seconds\")\n",
    "\n",
    "# NumPy array\n",
    "initialTime = time.time()\n",
    "array = numpy.concatenate((array1, array2),\n",
    "\t\t\t\t\t\taxis = 0)\n",
    "\n",
    "# calculating execution time \n",
    "print(\"Time taken by NumPy Arrays :\", \n",
    "\t(time.time() - initialTime),\n",
    "\t\"seconds\")\n",
    "\n",
    "\n",
    "# Dot Product\n",
    "dot = 0\n",
    "print(\"\\nDot Product:\")\n",
    "\n",
    "# list\n",
    "initialTime = time.time()\n",
    "for a, b in zip(list1, list2):\n",
    "\t\tdot = dot + (a * b)\n",
    "\t\t\n",
    "# calculating execution time\n",
    "print(\"Time taken by Lists :\", \n",
    "\t(time.time() - initialTime),\n",
    "\t\"seconds\")\n",
    "\n",
    "# NumPy array\n",
    "initialTime = time.time()\n",
    "array = numpy.dot(array1, array2)\n",
    "\n",
    "# calculating execution time \n",
    "print(\"Time taken by NumPy Arrays :\",\n",
    "\t(time.time() - initialTime),\n",
    "\t\"seconds\")\n",
    "\n",
    "\n",
    "# Scalar Addition \n",
    "print(\"\\nScalar Addition:\")\n",
    "\n",
    "# list\n",
    "initialTime = time.time()\n",
    "list1 =[i + 2 for i in range(size)]\n",
    "\n",
    "# calculating execution time\n",
    "print(\"Time taken by Lists :\",\n",
    "\t(time.time() - initialTime),\n",
    "\t\"seconds\")\n",
    "\n",
    "# NumPy array\n",
    "initialTime = time.time()\n",
    "array1 = array1 + 2\n",
    "\n",
    "# calculating execution time \n",
    "print(\"Time taken by NumPy Arrays :\", \n",
    "\t(time.time() - initialTime), \n",
    "\t\"seconds\")\n",
    "\n",
    "\n",
    "# Deletion\n",
    "print(\"\\nDeletion: \")\n",
    "\n",
    "# list\n",
    "initialTime = time.time()\n",
    "del(list1)\n",
    "\n",
    "# calculating execution time\n",
    "print(\"Time taken by Lists :\",\n",
    "\t(time.time() - initialTime),\n",
    "\t\"seconds\")\n",
    "\n",
    "# NumPy array\n",
    "initialTime = time.time()\n",
    "del(array1)\n",
    "\n",
    "# calculating execution time \n",
    "print(\"Time taken by NumPy Arrays :\", \n",
    "\t(time.time() - initialTime),\n",
    "\t\"seconds\")\n"
   ]
  },
  {
   "cell_type": "markdown",
   "metadata": {},
   "source": [
    "## 3.2 Sistemas de equações lineares\n",
    "\n",
    "#### Equações lineares \n",
    "\n",
    "$ a_{1}x_1 + a_{2}x_2 + \\ldots + a_{n}x_n = b $\n",
    "\n",
    "- Definição: Um sistema linear é um conjunto de equações lineares\n",
    "\n",
    "\n",
    "$$\n",
    "\\begin{cases}\n",
    "a_{11}x_1 + a_{12}x_2 + \\ldots + a_{1n}x_n = b_1 \\\\\n",
    "a_{21}x_1 + a_{22}x_2 + \\ldots + a_{2n}x_n = b_2 \\\\\n",
    "\\vdots \\\\\n",
    "a_{m1}x_1 + a_{m2}x_2 + \\ldots + a_{mn}x_n = b_m \\\\\n",
    "\\end{cases}\n",
    "$$\n",
    "\n",
    "\n",
    "Sistemas lineares podem ser resolvidos por escalonamento pelo método de Gauss Jordan, mas esse algoritmo é um tanto quanto trabalhoso e sua implementação computacional não parece ser a mais simples. Ao invés disso veja como podemos usar a propriedade da inversibilidade de matrizes para resolver esse problema:"
   ]
  },
  {
   "cell_type": "markdown",
   "metadata": {},
   "source": [
    "### Problema: Resolver o seguinte sistema linear\n",
    "$$\n",
    "2x_1 + 3x_2  + 4x_3 = 46 \\\\\n",
    "1x_1 + 1x_2 +  3x_3 = 28 \\\\\n",
    "3x_1 + 5x_2 +  1x_3 = 36 \\\\\n",
    "$$\n",
    "\n",
    "Podemos colocar o sistema sob a forma de matrizes : Aqui 3 matrizes são necessárias\n",
    "\n",
    "- Matriz dos coeficientes:\n",
    "\n",
    "\n",
    "\\begin{equation}\n",
    "\\begin{pmatrix}\n",
    "  2       & 3   & 4 \\\\\n",
    "  1       & 1   & 3 \\\\\n",
    "  3       & 5   &  1 \\\\\n",
    "\\end{pmatrix}\n",
    "= A\n",
    "\\end{equation}\n",
    "\n",
    "- Matriz coluna das incognitas:\n",
    "\n",
    "\\begin{equation}\n",
    "\\begin{pmatrix}\n",
    "  x_{1}\\\\\n",
    "  x_{2} \\\\\n",
    "  x_{3}\\\\\n",
    "\n",
    "\\end{pmatrix}\n",
    "= X\n",
    "\\end{equation}\n",
    "\n",
    "- Matriz das variáveis independentes\n",
    "\n",
    "\\begin{equation}\n",
    "\\begin{pmatrix}\n",
    "  46\\\\\n",
    "  28 \\\\\n",
    "  36\\\\\n",
    "\n",
    "\\end{pmatrix}\n",
    "= Y\n",
    "\\end{equation}\n",
    "\n",
    "De modo que\n",
    "\n",
    "\\begin{equation}\n",
    "\\begin{pmatrix}\n",
    "  2       & 3   & 4 \\\\\n",
    "  1       & 1   & 3 \\\\\n",
    "  3       & 5   &  1 \\\\\n",
    "\\end{pmatrix}\n",
    "\\begin{pmatrix}\n",
    "  x_{1}\\\\\n",
    "  x_{2} \\\\\n",
    "  x_{3}\\\\\n",
    "\n",
    "\\end{pmatrix}\n",
    "=\n",
    "\\begin{pmatrix}\n",
    "  46\\\\\n",
    "  28 \\\\\n",
    "  36\\\\\n",
    "\n",
    "\\end{pmatrix}\n",
    "\n",
    "\\end{equation}\n",
    "\n",
    "Dado que a matriz $A$ admita uma matriz inversa $A^{-1}$\n",
    "$$\n",
    "A X  = Y \\\\\n",
    "\n",
    "A^{-1} A X = A^{-1} Y \\\\\n",
    "\n",
    "(A^{-1} A) X = A^{-1} Y \\\\\n",
    "\n",
    "I X = A^{-1} Y \\\\\n",
    "\n",
    "X = A^{-1} Y \n",
    "\n",
    "$$\n",
    "\n",
    "\n",
    "\n",
    "\n",
    "\n",
    "\n",
    "\n",
    "\n"
   ]
  },
  {
   "cell_type": "markdown",
   "metadata": {},
   "source": [
    "#### Implementando ...\n",
    "Vamos criar as matrizes que já temos"
   ]
  },
  {
   "cell_type": "code",
   "execution_count": 2,
   "metadata": {},
   "outputs": [
    {
     "name": "stdout",
     "output_type": "stream",
     "text": [
      "[[2 3 4]\n",
      " [1 1 3]\n",
      " [3 5 1]]\n",
      "Matriz 3 x 3\n"
     ]
    }
   ],
   "source": [
    "## vamos fazer a implementação desse problema\n",
    "\n",
    "import numpy as np \n",
    "\n",
    "\n",
    "matriz_coef = np.array([ [2,3,4],\n",
    "                       [1,1,3],\n",
    "                       [3,5,1] ])\n",
    "print(matriz_coef)\n",
    "print(f'Matriz {matriz_coef.shape[0]} x {matriz_coef.shape[1]}')"
   ]
  },
  {
   "cell_type": "code",
   "execution_count": 3,
   "metadata": {},
   "outputs": [
    {
     "name": "stdout",
     "output_type": "stream",
     "text": [
      "[[46]\n",
      " [28]\n",
      " [36]]\n",
      "Matriz coluna 3 x 1\n"
     ]
    }
   ],
   "source": [
    "matriz_Y  = np.array( [[46],\n",
    "                       [28],\n",
    "                       [36] ])\n",
    "\n",
    "print(matriz_Y)\n",
    "print(f'Matriz coluna {matriz_Y.shape[0]} x {matriz_Y.shape[1]}')"
   ]
  },
  {
   "cell_type": "markdown",
   "metadata": {},
   "source": [
    "### Encontrando a matriz inversa e multiplicação de arrays"
   ]
  },
  {
   "cell_type": "code",
   "execution_count": 4,
   "metadata": {},
   "outputs": [
    {
     "data": {
      "text/plain": [
       "array([[-3.5 ,  4.25,  1.25],\n",
       "       [ 2.  , -2.5 , -0.5 ],\n",
       "       [ 0.5 , -0.25, -0.25]])"
      ]
     },
     "execution_count": 4,
     "metadata": {},
     "output_type": "execute_result"
    }
   ],
   "source": [
    "## multiplicação entre arrays - > metodo .dot() ou @\n",
    "## antes encontremos a inversa\n",
    "\n",
    "## biblioteca scipy modulo linalg\n",
    "\n",
    "from scipy import linalg\n",
    "\n",
    "matriz_inv  = linalg.inv(matriz_coef)\n",
    "matriz_inv\n",
    "\n"
   ]
  },
  {
   "cell_type": "code",
   "execution_count": 5,
   "metadata": {},
   "outputs": [
    {
     "name": "stdout",
     "output_type": "stream",
     "text": [
      " Matriz com .dot: \n",
      " [[3.]\n",
      " [4.]\n",
      " [7.]] \n",
      " \n",
      "\n",
      "Matriz com @ \n",
      " [[3.]\n",
      " [4.]\n",
      " [7.]]\n"
     ]
    }
   ],
   "source": [
    "##usando dot\n",
    "X_dot = np.dot(matriz_inv, matriz_Y)\n",
    "\n",
    "X  = matriz_inv @ matriz_Y\n",
    "\n",
    "print(f' Matriz com .dot: \\n {X_dot} \\n \\n')\n",
    "\n",
    "print(f'Matriz com @ \\n {X}')\n"
   ]
  },
  {
   "cell_type": "code",
   "execution_count": 6,
   "metadata": {},
   "outputs": [
    {
     "name": "stdout",
     "output_type": "stream",
     "text": [
      " A solução então é tal que \n",
      "\n",
      "               x1 = 3 \n",
      "               x2 = 4 \n",
      "               x3 = 7 \n",
      "\n"
     ]
    }
   ],
   "source": [
    "solucao = f''' A solução então é tal que \\n\n",
    "               x1 = {round(X[0, 0])} \n",
    "               x2 = {round(X[1, 0])} \n",
    "               x3 = {round(X[2, 0])} \n",
    "'''\n",
    "\n",
    "print(solucao)"
   ]
  }
 ],
 "metadata": {
  "kernelspec": {
   "display_name": "base",
   "language": "python",
   "name": "python3"
  },
  "language_info": {
   "codemirror_mode": {
    "name": "ipython",
    "version": 3
   },
   "file_extension": ".py",
   "mimetype": "text/x-python",
   "name": "python",
   "nbconvert_exporter": "python",
   "pygments_lexer": "ipython3",
   "version": "3.11.5"
  }
 },
 "nbformat": 4,
 "nbformat_minor": 2
}
